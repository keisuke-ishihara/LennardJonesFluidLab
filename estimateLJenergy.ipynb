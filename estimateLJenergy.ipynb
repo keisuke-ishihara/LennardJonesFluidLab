{
 "cells": [
  {
   "cell_type": "code",
   "execution_count": 1,
   "id": "7038283b",
   "metadata": {},
   "outputs": [],
   "source": [
    "import os, glob\n",
    "import numpy as np\n",
    "import pandas as pd\n",
    "import matplotlib.pyplot as plt\n",
    "\n",
    "from classes import Ensemble\n",
    "from celldynamics import CellDynamics\n",
    "from visualizationTools import makeTrajMovie2D"
   ]
  },
  {
   "cell_type": "code",
   "execution_count": 2,
   "id": "37d17d4b",
   "metadata": {},
   "outputs": [
    {
     "ename": "NameError",
     "evalue": "name 'Ensemble' is not defined",
     "output_type": "error",
     "traceback": [
      "\u001b[0;31m---------------------------------------------------------------------------\u001b[0m",
      "\u001b[0;31mNameError\u001b[0m                                 Traceback (most recent call last)",
      "Cell \u001b[0;32mIn[2], line 29\u001b[0m\n\u001b[1;32m     17\u001b[0m coords_over_time \u001b[38;5;241m=\u001b[39m [coords1, coords2]\n\u001b[1;32m     19\u001b[0m ensembleArgs \u001b[38;5;241m=\u001b[39m {\n\u001b[1;32m     20\u001b[0m     \u001b[38;5;124m'\u001b[39m\u001b[38;5;124msideLen\u001b[39m\u001b[38;5;124m'\u001b[39m: \u001b[38;5;241m10\u001b[39m,\n\u001b[1;32m     21\u001b[0m     \u001b[38;5;124m'\u001b[39m\u001b[38;5;124mdim\u001b[39m\u001b[38;5;124m'\u001b[39m: \u001b[38;5;241m2\u001b[39m,\n\u001b[0;32m   (...)\u001b[0m\n\u001b[1;32m     26\u001b[0m     \u001b[38;5;124m'\u001b[39m\u001b[38;5;124museLJ\u001b[39m\u001b[38;5;124m'\u001b[39m: \u001b[38;5;28;01mTrue\u001b[39;00m\n\u001b[1;32m     27\u001b[0m }\n\u001b[0;32m---> 29\u001b[0m \u001b[43mCellDynamics\u001b[49m\u001b[43m(\u001b[49m\u001b[43mcoords_over_time\u001b[49m\u001b[43m,\u001b[49m\u001b[43m \u001b[49m\u001b[43mensembleArgs\u001b[49m\u001b[43m)\u001b[49m\n",
      "File \u001b[0;32m~/Documents/GitHub/LennardJonesFluidLab/dynamics.py:94\u001b[0m, in \u001b[0;36mCellDynamics\u001b[0;34m(coords_over_time, ensembleArgs)\u001b[0m\n\u001b[1;32m     92\u001b[0m N \u001b[38;5;241m=\u001b[39m []\n\u001b[1;32m     93\u001b[0m PE \u001b[38;5;241m=\u001b[39m []\n\u001b[0;32m---> 94\u001b[0m ens_for_traj \u001b[38;5;241m=\u001b[39m \u001b[43mEnsemble\u001b[49m(nMol\u001b[38;5;241m=\u001b[39m\u001b[38;5;28mlen\u001b[39m(coords_over_time[\u001b[38;5;241m-\u001b[39m\u001b[38;5;241m1\u001b[39m]), \u001b[38;5;241m*\u001b[39m\u001b[38;5;241m*\u001b[39mensembleArgs)\n\u001b[1;32m     95\u001b[0m \u001b[38;5;28;01mfor\u001b[39;00m positions \u001b[38;5;129;01min\u001b[39;00m coords_over_time:\n\u001b[1;32m     96\u001b[0m     ensemble \u001b[38;5;241m=\u001b[39m Ensemble(nMol\u001b[38;5;241m=\u001b[39m\u001b[38;5;28mlen\u001b[39m(positions), \u001b[38;5;241m*\u001b[39m\u001b[38;5;241m*\u001b[39mensembleArgs)\n",
      "\u001b[0;31mNameError\u001b[0m: name 'Ensemble' is not defined"
     ]
    }
   ],
   "source": [
    "# Example 2D coordinates for 4 molecules (replace with your actual coordinates)\n",
    "coords1 = np.array([\n",
    "    [1.0, 2.0],\n",
    "    [3.5, 4.0],\n",
    "    [0.5, 1.5],\n",
    "    [2.0, 5.0]\n",
    "])\n",
    "\n",
    "coords2 = np.array([\n",
    "    [1.0, 2.0],\n",
    "    [3.5, 4.0],\n",
    "    [2.4, 4.0],\n",
    "    [0.5, 1.5],\n",
    "    [2.0, 5.0]\n",
    "])\n",
    "\n",
    "coords_over_time = [coords1, coords2]\n",
    "\n",
    "ensembleArgs = {\n",
    "    'sideLen': 10,\n",
    "    'dim': 2,\n",
    "    'sigma': 1.0,\n",
    "    'epsilon': 1,\n",
    "    'cutFactor': 3,\n",
    "    'periodic': True,\n",
    "    'useLJ': True\n",
    "}\n",
    "\n",
    "CellDynamics(coords_over_time, ensembleArgs)"
   ]
  },
  {
   "cell_type": "markdown",
   "id": "fd41cc55",
   "metadata": {},
   "source": [
    "## load cell position data from OSMOTIL"
   ]
  },
  {
   "cell_type": "code",
   "execution_count": null,
   "id": "62f61209",
   "metadata": {},
   "outputs": [],
   "source": [
    "osmotil_dir = '/Users/keisuke/Library/CloudStorage/OneDrive-UniversityofPittsburgh/Documents - IshiharaLab/Research/OSMOTIL/'\n",
    "datadir = os.path.join(osmotil_dir, 'yajushi/nuclear_positions/nuclear_positions_OSMOTIL002_T_all_W27-30/well_27')\n",
    "datadir = os.path.join(osmotil_dir, 'yajushi/nuclear_positions/nuclear_positions_OSMOTIL_001_T_all_Dextran')"
   ]
  },
  {
   "cell_type": "code",
   "execution_count": null,
   "id": "f7d07192",
   "metadata": {},
   "outputs": [],
   "source": [
    "skipT = 1\n",
    "skipCells = 1\n",
    "\n",
    "ensembleArgs = {\n",
    "    'sideLen': 2000,\n",
    "    'dim': 2,\n",
    "    'sigma': 120,\n",
    "    'buffer': 10,\n",
    "    'cutFactor': 6,\n",
    "    'periodic': True,\n",
    "    'useLJ': False\n",
    "}\n"
   ]
  },
  {
   "cell_type": "code",
   "execution_count": null,
   "id": "08be5f37",
   "metadata": {},
   "outputs": [],
   "source": [
    "# W00015 is control\n",
    "WF = 'W0015F0001'\n",
    "files = sorted(glob.glob(os.path.join(datadir, '*'+WF+'*.csv')))[::skipT]\n",
    "filenames = [os.path.basename(f) for f in files]\n",
    "coords_over_time = [pd.read_csv(file, usecols = ['X', 'Y']).to_numpy()[::skipCells] for file in files]\n",
    "N, PE, ensemble = CellDynamics(coords_over_time, ensembleArgs)\n",
    "\n",
    "makeTrajMovie2D(ensemble.trajectory, ensemble.sideLen, fps=7, markersize=2, filename = 'traj_'+WF+'.gif')"
   ]
  },
  {
   "cell_type": "code",
   "execution_count": null,
   "id": "f2d4071f",
   "metadata": {},
   "outputs": [],
   "source": [
    "fig, axs = plt.subplots(1,3, figsize=(9,3))\n",
    "axs[0].plot(N)\n",
    "axs[1].plot(PE)\n",
    "axs[2].plot(np.divide(PE, N))\n",
    "fig.tight_layout()"
   ]
  },
  {
   "cell_type": "code",
   "execution_count": null,
   "id": "a96cccd7",
   "metadata": {},
   "outputs": [],
   "source": [
    "# W00018 is Dextran\n",
    "WF = 'W0018F0001'\n",
    "files = sorted(glob.glob(os.path.join(datadir, '*'+WF+'*.csv')))[::skipT]\n",
    "filenames = [os.path.basename(f) for f in files]\n",
    "coords_over_time = [pd.read_csv(file, usecols = ['X', 'Y']).to_numpy()[::skipCells] for file in files]\n",
    "N, PE, ensemble = CellDynamics(coords_over_time, ensembleArgs)\n",
    "\n",
    "makeTrajMovie2D(ensemble.trajectory, ensemble.sideLen, fps=7, markersize=2, filename = 'traj_'+WF+'.gif')"
   ]
  },
  {
   "cell_type": "code",
   "execution_count": null,
   "id": "3d20e3c5",
   "metadata": {},
   "outputs": [],
   "source": []
  },
  {
   "cell_type": "code",
   "execution_count": null,
   "id": "8fd0c84f",
   "metadata": {},
   "outputs": [],
   "source": []
  },
  {
   "cell_type": "code",
   "execution_count": null,
   "id": "9f58aa49",
   "metadata": {},
   "outputs": [],
   "source": []
  }
 ],
 "metadata": {
  "kernelspec": {
   "display_name": "Python 3 (ipykernel)",
   "language": "python",
   "name": "python3"
  },
  "language_info": {
   "codemirror_mode": {
    "name": "ipython",
    "version": 3
   },
   "file_extension": ".py",
   "mimetype": "text/x-python",
   "name": "python",
   "nbconvert_exporter": "python",
   "pygments_lexer": "ipython3",
   "version": "3.9.7"
  }
 },
 "nbformat": 4,
 "nbformat_minor": 5
}
